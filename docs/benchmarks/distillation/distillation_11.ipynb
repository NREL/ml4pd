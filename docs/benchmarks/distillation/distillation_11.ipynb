{
 "cells": [
  {
   "cell_type": "markdown",
   "id": "14a4547b",
   "metadata": {},
   "source": [
    "# 11 Components Data"
   ]
  },
  {
   "cell_type": "code",
   "execution_count": null,
   "id": "552eee49",
   "metadata": {},
   "outputs": [],
   "source": [
    "import numpy as np\n",
    "import time\n",
    "\n",
    "from ml4pd import components\n",
    "from ml4pd_utils.utils import prep_dist, evaluators, io, prep_df, plot_utils\n",
    "from ml4pd.aspen_units import Distillation\n",
    "from ml4pd.streams import MaterialStream\n",
    "\n",
    "input_molecules = prep_dist.get_mol_labels()\n",
    "components.set_components(input_molecules['name'].to_list())\n",
    "\n",
    "raw_data = io.get_test_val_data(compositions=[11], dates=['220803', '220821'], unit=\"distillation\", chemistries=['ketone', 'vfa'], ftype=\"aspen\")\n",
    "data = prep_df.add_name_columns(raw_data, input_molecules[['name', 'mol']])\n",
    "data = prep_dist.add_flow_perc(data)\n",
    "data = prep_df.rename_flowrate_columns(data)\n"
   ]
  },
  {
   "cell_type": "markdown",
   "id": "d3eb6440",
   "metadata": {},
   "source": [
    "## Benchmark Info"
   ]
  },
  {
   "cell_type": "code",
   "execution_count": null,
   "id": "62177d73",
   "metadata": {},
   "outputs": [],
   "source": [
    "input_molecules.T"
   ]
  },
  {
   "cell_type": "code",
   "execution_count": null,
   "id": "7371c5b8",
   "metadata": {},
   "outputs": [],
   "source": [
    "raw_data.describe().T"
   ]
  },
  {
   "cell_type": "markdown",
   "id": "01c49677",
   "metadata": {},
   "source": [
    "## Time Benchmark"
   ]
  },
  {
   "cell_type": "code",
   "execution_count": null,
   "id": "5073371a",
   "metadata": {},
   "outputs": [],
   "source": [
    "\n",
    "times = []\n",
    "for i in range(0, 10):\n",
    "    start_time = time.time()\n",
    "    feed_stream = MaterialStream(stream_type=\"feed\")(\n",
    "        vapor_fraction=data['vapor_fraction'].to_list(),\n",
    "        pressure=data['feed_pressure'].to_list(),\n",
    "        molecules=prep_df.get_name_columns(data).to_dict('list'),\n",
    "        flowrates=prep_df.get_flowrate_columns(data).to_dict('list'),\n",
    "    )\n",
    "    \n",
    "    dist_col = Distillation(\n",
    "        no_stages = data['no_stages'].to_list(),\n",
    "        feed_stage =  data['feed_stage'].to_list(),\n",
    "        pressure = data['pressure_atm'].to_list(),\n",
    "        reflux_ratio = data['ratio_reflux'].to_list(),\n",
    "        boilup_ratio = data['ratio_boilup'].to_list(),\n",
    "        verbose=False,\n",
    "        fillna=False\n",
    "    )\n",
    "\n",
    "    bott_stream, dist_stream = dist_col(feed_stream)\n",
    "    \n",
    "    times.append(time.time() - start_time)\n",
    "\n",
    "ordered_data = prep_dist.sort_targets_by_weight(data, feed_stream._mw_idx)\n",
    "\n",
    "average = np.mean(times).round(2)\n",
    "std = np.std(times).round(2)\n",
    "\n",
    "print(f\"{len(data)} data pts take {average} +/- {std} seconds to predict.\")\n",
    "        "
   ]
  },
  {
   "cell_type": "markdown",
   "id": "c49d2aa1",
   "metadata": {},
   "source": [
    "## Classifier Benchmark"
   ]
  },
  {
   "cell_type": "code",
   "execution_count": null,
   "id": "874bbd97",
   "metadata": {},
   "outputs": [],
   "source": [
    "ok_idx = np.array(ordered_data[ordered_data['Status'] == 'OK'].index)\n",
    "plot_utils.plot_confusion_matrix(ordered_data, dist_col.status)\n",
    "            "
   ]
  },
  {
   "cell_type": "markdown",
   "id": "ac80f352",
   "metadata": {},
   "source": [
    "## Flowrates Benchmark"
   ]
  },
  {
   "cell_type": "code",
   "execution_count": null,
   "id": "d9a24018",
   "metadata": {},
   "outputs": [],
   "source": [
    "plot_utils.plot(\n",
    "    all_true=ordered_data,\n",
    "    flow_type=\"flowrate_bott\",\n",
    "    data_slice={\n",
    "        'Status': 'OK',\n",
    "    },\n",
    "    **bott_stream.flow\n",
    ")"
   ]
  },
  {
   "cell_type": "markdown",
   "id": "bcd5bee6",
   "metadata": {},
   "source": [
    "## Duty Benchmark"
   ]
  },
  {
   "cell_type": "code",
   "execution_count": null,
   "id": "5fc592cc",
   "metadata": {},
   "outputs": [],
   "source": [
    "plot_utils.plot(\n",
    "    all_true=ordered_data,\n",
    "    duty_condensor=dist_col.condensor_duty, \n",
    "    duty_reboiler=dist_col.reboiler_duty, \n",
    "    data_slice={\"Status\": \"OK\"}\n",
    ")"
   ]
  },
  {
   "cell_type": "markdown",
   "id": "82341135",
   "metadata": {},
   "source": [
    "## Temperature Benchmark"
   ]
  },
  {
   "cell_type": "code",
   "execution_count": null,
   "id": "bdcbf158",
   "metadata": {},
   "outputs": [],
   "source": [
    "plot_utils.plot(\n",
    "    all_true=ordered_data, \n",
    "    temp_bott=bott_stream.temperature, \n",
    "    temp_dist=dist_stream.temperature, \n",
    "    data_slice={'Status': 'OK'},\n",
    ")\n",
    "            "
   ]
  },
  {
   "cell_type": "markdown",
   "id": "e82f2a15",
   "metadata": {},
   "source": [
    "## Mean Absolute Error"
   ]
  },
  {
   "cell_type": "code",
   "execution_count": null,
   "id": "af728e30",
   "metadata": {},
   "outputs": [],
   "source": [
    "evaluators.evaluate(\n",
    "    all_true=ordered_data, \n",
    "    flow_type='flowrate_bott',\n",
    "    metric='mae',\n",
    "    data_slice={\"Status\": \"OK\"},\n",
    "    **bott_stream.flow\n",
    ")"
   ]
  },
  {
   "cell_type": "code",
   "execution_count": null,
   "id": "804a39e7",
   "metadata": {},
   "outputs": [],
   "source": [
    "evaluators.evaluate(\n",
    "    all_true=ordered_data, \n",
    "    duty_condensor=dist_col.condensor_duty, \n",
    "    duty_reboiler=dist_col.reboiler_duty, \n",
    "    data_slice={'Status': 'OK'},\n",
    "    metric=\"mae\"\n",
    ")"
   ]
  },
  {
   "cell_type": "code",
   "execution_count": null,
   "id": "62af9ca9",
   "metadata": {},
   "outputs": [],
   "source": [
    "evaluators.evaluate(\n",
    "    all_true=ordered_data, \n",
    "    temp_bott=bott_stream.temperature, \n",
    "    temp_dist=dist_stream.temperature, \n",
    "    data_slice={'Status': 'OK'},\n",
    "    metric=\"mae\"\n",
    ")"
   ]
  }
 ],
 "metadata": {},
 "nbformat": 4,
 "nbformat_minor": 5
}
