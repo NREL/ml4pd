{
 "cells": [
  {
   "cell_type": "markdown",
   "id": "8f1ffb7c",
   "metadata": {},
   "source": [
    "# 6 Components Data"
   ]
  },
  {
   "cell_type": "code",
   "execution_count": null,
   "id": "16546a5e",
   "metadata": {},
   "outputs": [],
   "source": [
    "import numpy as np\n",
    "import time\n",
    "\n",
    "from ml4pd import components\n",
    "from ml4pd_utils.utils import prep_dist, evaluators, io, prep_df, plot_utils\n",
    "from ml4pd.aspen_units import Distillation\n",
    "from ml4pd.streams import MaterialStream\n",
    "\n",
    "input_molecules = prep_dist.get_mol_labels()\n",
    "components.set_components(input_molecules['name'].to_list())\n",
    "\n",
    "raw_data = io.get_test_val_data(compositions=[6], dates=['220803', '220821'], unit=\"distillation\", chemistries=['ketone', 'vfa'], ftype=\"aspen\")\n",
    "data = prep_df.add_name_columns(raw_data, input_molecules[['name', 'mol']])\n",
    "data = prep_dist.add_flow_perc(data)\n",
    "data = prep_df.rename_flowrate_columns(data)\n"
   ]
  },
  {
   "cell_type": "markdown",
   "id": "06922ba3",
   "metadata": {},
   "source": [
    "## Benchmark Info"
   ]
  },
  {
   "cell_type": "code",
   "execution_count": null,
   "id": "f410990d",
   "metadata": {},
   "outputs": [],
   "source": [
    "input_molecules.T"
   ]
  },
  {
   "cell_type": "code",
   "execution_count": null,
   "id": "95a906fd",
   "metadata": {},
   "outputs": [],
   "source": [
    "raw_data.describe().T"
   ]
  },
  {
   "cell_type": "markdown",
   "id": "4f92aef6",
   "metadata": {},
   "source": [
    "## Time Benchmark"
   ]
  },
  {
   "cell_type": "code",
   "execution_count": null,
   "id": "9dfc0e62",
   "metadata": {},
   "outputs": [],
   "source": [
    "\n",
    "times = []\n",
    "for i in range(0, 10):\n",
    "    start_time = time.time()\n",
    "    feed_stream = MaterialStream(stream_type=\"feed\")(\n",
    "        vapor_fraction=data['vapor_fraction'].to_list(),\n",
    "        pressure=data['feed_pressure'].to_list(),\n",
    "        molecules=prep_df.get_name_columns(data).to_dict('list'),\n",
    "        flowrates=prep_df.get_flowrate_columns(data).to_dict('list'),\n",
    "    )\n",
    "    \n",
    "    dist_col = Distillation(\n",
    "        no_stages = data['no_stages'].to_list(),\n",
    "        feed_stage =  data['feed_stage'].to_list(),\n",
    "        pressure = data['pressure_atm'].to_list(),\n",
    "        reflux_ratio = data['ratio_reflux'].to_list(),\n",
    "        boilup_ratio = data['ratio_boilup'].to_list(),\n",
    "        verbose=False,\n",
    "        fillna=False\n",
    "    )\n",
    "\n",
    "    bott_stream, dist_stream = dist_col(feed_stream)\n",
    "    \n",
    "    times.append(time.time() - start_time)\n",
    "\n",
    "ordered_data = prep_dist.sort_targets_by_weight(data, feed_stream._mw_idx)\n",
    "\n",
    "average = np.mean(times).round(2)\n",
    "std = np.std(times).round(2)\n",
    "\n",
    "print(f\"{len(data)} data pts take {average} +/- {std} seconds to predict.\")\n",
    "        "
   ]
  },
  {
   "cell_type": "markdown",
   "id": "c4734316",
   "metadata": {},
   "source": [
    "## Classifier Benchmark"
   ]
  },
  {
   "cell_type": "code",
   "execution_count": null,
   "id": "8f2cbdd6",
   "metadata": {},
   "outputs": [],
   "source": [
    "ok_idx = np.array(ordered_data[ordered_data['Status'] == 'OK'].index)\n",
    "plot_utils.plot_confusion_matrix(ordered_data, dist_col.status)\n",
    "            "
   ]
  },
  {
   "cell_type": "markdown",
   "id": "bf8ca21a",
   "metadata": {},
   "source": [
    "## Flowrates Benchmark"
   ]
  },
  {
   "cell_type": "code",
   "execution_count": null,
   "id": "470b224d",
   "metadata": {},
   "outputs": [],
   "source": [
    "plot_utils.plot(\n",
    "    all_true=ordered_data,\n",
    "    flow_type=\"flowrate_bott\",\n",
    "    data_slice={\n",
    "        'Status': 'OK',\n",
    "    },\n",
    "    **bott_stream.flow\n",
    ")"
   ]
  },
  {
   "cell_type": "markdown",
   "id": "a5567e50",
   "metadata": {},
   "source": [
    "## Duty Benchmark"
   ]
  },
  {
   "cell_type": "code",
   "execution_count": null,
   "id": "1a33d2d2",
   "metadata": {},
   "outputs": [],
   "source": [
    "plot_utils.plot(\n",
    "    all_true=ordered_data,\n",
    "    duty_condensor=dist_col.condensor_duty, \n",
    "    duty_reboiler=dist_col.reboiler_duty, \n",
    "    data_slice={\"Status\": \"OK\"}\n",
    ")"
   ]
  },
  {
   "cell_type": "markdown",
   "id": "6e1d8e05",
   "metadata": {},
   "source": [
    "## Temperature Benchmark"
   ]
  },
  {
   "cell_type": "code",
   "execution_count": null,
   "id": "631dc6f6",
   "metadata": {},
   "outputs": [],
   "source": [
    "plot_utils.plot(\n",
    "    all_true=ordered_data, \n",
    "    temp_bott=bott_stream.temperature, \n",
    "    temp_dist=dist_stream.temperature, \n",
    "    data_slice={'Status': 'OK'},\n",
    ")\n",
    "            "
   ]
  },
  {
   "cell_type": "markdown",
   "id": "13d78f71",
   "metadata": {},
   "source": [
    "## Mean Absolute Error"
   ]
  },
  {
   "cell_type": "code",
   "execution_count": null,
   "id": "90cf7c49",
   "metadata": {},
   "outputs": [],
   "source": [
    "evaluators.evaluate(\n",
    "    all_true=ordered_data, \n",
    "    flow_type='flowrate_bott',\n",
    "    metric='mae',\n",
    "    data_slice={\"Status\": \"OK\"},\n",
    "    **bott_stream.flow\n",
    ")"
   ]
  },
  {
   "cell_type": "code",
   "execution_count": null,
   "id": "56893940",
   "metadata": {},
   "outputs": [],
   "source": [
    "evaluators.evaluate(\n",
    "    all_true=ordered_data, \n",
    "    duty_condensor=dist_col.condensor_duty, \n",
    "    duty_reboiler=dist_col.reboiler_duty, \n",
    "    data_slice={'Status': 'OK'},\n",
    "    metric=\"mae\"\n",
    ")"
   ]
  },
  {
   "cell_type": "code",
   "execution_count": null,
   "id": "853f1e2f",
   "metadata": {},
   "outputs": [],
   "source": [
    "evaluators.evaluate(\n",
    "    all_true=ordered_data, \n",
    "    temp_bott=bott_stream.temperature, \n",
    "    temp_dist=dist_stream.temperature, \n",
    "    data_slice={'Status': 'OK'},\n",
    "    metric=\"mae\"\n",
    ")"
   ]
  }
 ],
 "metadata": {},
 "nbformat": 4,
 "nbformat_minor": 5
}
